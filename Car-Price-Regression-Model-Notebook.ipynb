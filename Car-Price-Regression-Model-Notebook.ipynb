{
 "cells": [
  {
   "cell_type": "markdown",
   "id": "750899fa",
   "metadata": {},
   "source": [
    "# Problem definition\n",
    "\n",
    "* Having data from the Polish side concerning car sales, I try to create such a model of machine learning that it is able to price the car on the basis of the information provided.\n",
    "\n",
    "### Data dictionary\n",
    "1.   Make - e.x BMW\n",
    "2.   Seller - private person or company          \n",
    "3.   YearOfProd - year of production of a car   \n",
    "4.   Mileage (km) - Odometer  \n",
    "5.   Color - color of a car      \n",
    "6.   Fuel - type of fuel\n",
    "7.   FuelCinCity - fuel consumption in city\n",
    "8.   Gearbox - type of a gearbox in car      \n",
    "9.   EngineVol (cm3)\n",
    "10.  Horsepower\n",
    "11.  Post-accident - 1(False)/ 0(True)\n",
    "12.  Seats - number of seats in car      \n",
    "13.  Doors - number of doors in a car\n",
    "14.  Price - real price of car"
   ]
  },
  {
   "cell_type": "markdown",
   "id": "0558e9bd",
   "metadata": {},
   "source": [
    "# Imports"
   ]
  },
  {
   "cell_type": "code",
   "execution_count": 82,
   "id": "f1a114c5",
   "metadata": {},
   "outputs": [],
   "source": [
    "# Basic/ Manipulating data science packages.\n",
    "import numpy as np\n",
    "import pandas as pd\n",
    "import matplotlib.pyplot as plt\n",
    "from pickle import dump\n",
    "\n",
    "# Sklearn models and packages\n",
    "from sklearn.model_selection import train_test_split, cross_val_score, RandomizedSearchCV\n",
    "\n",
    "# Models\n",
    "from sklearn.ensemble import RandomForestRegressor\n",
    "\n",
    "# Metrics\n",
    "from sklearn.metrics import mean_absolute_error, mean_squared_error\n",
    "from sklearn.metrics import r2_score"
   ]
  },
  {
   "cell_type": "markdown",
   "id": "4aa5613a",
   "metadata": {},
   "source": [
    "# Functions"
   ]
  },
  {
   "cell_type": "code",
   "execution_count": 54,
   "id": "a1deab20",
   "metadata": {},
   "outputs": [],
   "source": [
    "def score_model(y_true, y_preds):\n",
    "    \"\"\"\n",
    "    Evaluates model effectiveness using given metrics:\n",
    "    \n",
    "    r^2 cooeficient\n",
    "    MAE\n",
    "    MSE\n",
    "    Mean of cross validation score.\n",
    "    \n",
    "    sample:\n",
    "        y_true = [1, 0, 1]\n",
    "        y_preds = [1, 1, 1]\n",
    "    \n",
    "    Returns dictionary with calculated values. \n",
    "    \"\"\"\n",
    "    r2 = r2_score(y_true,\n",
    "                  y_preds)\n",
    "    mae = mean_absolute_error(y_true,\n",
    "                              y_preds)\n",
    "    mse = mean_squared_error(y_true,\n",
    "                             y_preds)\n",
    "    return {\n",
    "        \"R^2\": round(r2, 2),\n",
    "        \"MAE\": round(mae, 2),\n",
    "        \"MSE\": round(mse, 2),\n",
    "        \"RMSE\": np.sqrt(round(mse))\n",
    "    }\n",
    "\n",
    "def format_data(dataframe):\n",
    "    \"\"\"\n",
    "    Converts string/ object data into categorical.\n",
    "    Fill empty places with median in numeric data.\n",
    "    If data is missing for some rows, creates new label at the end of the dataframe as\n",
    "    binary representantion, if this value was missing.\n",
    "    \n",
    "    1 - True (value exist)\n",
    "    0 - False (value wasn't provided)\n",
    "    \"\"\"\n",
    "    # Fill empty places in numeric data\n",
    "    for label, content in dataframe.items():\n",
    "        if pd.api.types.is_numeric_dtype(content):\n",
    "            if dataframe[label].isna().sum():\n",
    "                # Adding ,,missing value\" label\n",
    "                dataframe[label + \"_missing\"] = pd.isnull(content)\n",
    "                \n",
    "                # Filling with media\n",
    "                dataframe[label] = content.fillna(content.median())\n",
    "                \n",
    "    # Change string/ object data\n",
    "    for label, content in dataframe.items():\n",
    "        if not pd.api.types.is_numeric_dtype(content):\n",
    "            # Adding ,,missing value\" label\n",
    "            dataframe[label + \"_missing\"] = pd.isnull(content)\n",
    "            \n",
    "            # Converting categorical data into codes\n",
    "            dataframe[label] = pd.Categorical(content).codes + 1\n",
    "    \n",
    "    return dataframe.reset_index(drop = True)\n",
    "            \n",
    "            "
   ]
  },
  {
   "cell_type": "markdown",
   "id": "14d87382",
   "metadata": {},
   "source": [
    "# Data exploration"
   ]
  },
  {
   "cell_type": "code",
   "execution_count": 55,
   "id": "df4d6f50",
   "metadata": {},
   "outputs": [
    {
     "data": {
      "text/html": [
       "<div>\n",
       "<style scoped>\n",
       "    .dataframe tbody tr th:only-of-type {\n",
       "        vertical-align: middle;\n",
       "    }\n",
       "\n",
       "    .dataframe tbody tr th {\n",
       "        vertical-align: top;\n",
       "    }\n",
       "\n",
       "    .dataframe thead th {\n",
       "        text-align: right;\n",
       "    }\n",
       "</style>\n",
       "<table border=\"1\" class=\"dataframe\">\n",
       "  <thead>\n",
       "    <tr style=\"text-align: right;\">\n",
       "      <th></th>\n",
       "      <th>Unnamed: 0</th>\n",
       "      <th>Make</th>\n",
       "      <th>Seller</th>\n",
       "      <th>YearOfProd</th>\n",
       "      <th>Mileage (km)</th>\n",
       "      <th>Color</th>\n",
       "      <th>Fuel</th>\n",
       "      <th>FuelCinCity</th>\n",
       "      <th>Gearbox</th>\n",
       "      <th>EngineVol (cm3)</th>\n",
       "      <th>Horsepower</th>\n",
       "      <th>Post-accident</th>\n",
       "      <th>Seats</th>\n",
       "      <th>Doors</th>\n",
       "      <th>Price</th>\n",
       "    </tr>\n",
       "  </thead>\n",
       "  <tbody>\n",
       "    <tr>\n",
       "      <th>0</th>\n",
       "      <td>0</td>\n",
       "      <td>BMW</td>\n",
       "      <td>Private person</td>\n",
       "      <td>2005</td>\n",
       "      <td>284000.0</td>\n",
       "      <td>Gray</td>\n",
       "      <td>Petrol</td>\n",
       "      <td>12</td>\n",
       "      <td>Manual</td>\n",
       "      <td>2497.0</td>\n",
       "      <td>177.0</td>\n",
       "      <td>NaN</td>\n",
       "      <td>5.0</td>\n",
       "      <td>5.0</td>\n",
       "      <td>4853.27</td>\n",
       "    </tr>\n",
       "    <tr>\n",
       "      <th>1</th>\n",
       "      <td>1</td>\n",
       "      <td>Peugeot</td>\n",
       "      <td>Private person</td>\n",
       "      <td>2011</td>\n",
       "      <td>216800.0</td>\n",
       "      <td>Gray</td>\n",
       "      <td>Diesel</td>\n",
       "      <td>6</td>\n",
       "      <td>Manual</td>\n",
       "      <td>1997.0</td>\n",
       "      <td>140.0</td>\n",
       "      <td>0.0</td>\n",
       "      <td>5.0</td>\n",
       "      <td>5.0</td>\n",
       "      <td>7629.80</td>\n",
       "    </tr>\n",
       "    <tr>\n",
       "      <th>2</th>\n",
       "      <td>2</td>\n",
       "      <td>MINI</td>\n",
       "      <td>Private person</td>\n",
       "      <td>2014</td>\n",
       "      <td>99500.0</td>\n",
       "      <td>Brown</td>\n",
       "      <td>Diesel</td>\n",
       "      <td>6</td>\n",
       "      <td>Automatic</td>\n",
       "      <td>1995.0</td>\n",
       "      <td>143.0</td>\n",
       "      <td>0.0</td>\n",
       "      <td>5.0</td>\n",
       "      <td>5.0</td>\n",
       "      <td>14853.27</td>\n",
       "    </tr>\n",
       "    <tr>\n",
       "      <th>3</th>\n",
       "      <td>3</td>\n",
       "      <td>Opel</td>\n",
       "      <td>Private person</td>\n",
       "      <td>2017</td>\n",
       "      <td>95000.0</td>\n",
       "      <td>Red</td>\n",
       "      <td>Petrol</td>\n",
       "      <td>7,70</td>\n",
       "      <td>NaN</td>\n",
       "      <td>1399.0</td>\n",
       "      <td>125.0</td>\n",
       "      <td>NaN</td>\n",
       "      <td>5.0</td>\n",
       "      <td>5.0</td>\n",
       "      <td>9864.56</td>\n",
       "    </tr>\n",
       "    <tr>\n",
       "      <th>4</th>\n",
       "      <td>4</td>\n",
       "      <td>Audi</td>\n",
       "      <td>Company</td>\n",
       "      <td>2019</td>\n",
       "      <td>98000.0</td>\n",
       "      <td>Black</td>\n",
       "      <td>Diesel</td>\n",
       "      <td>NaN</td>\n",
       "      <td>Automatic</td>\n",
       "      <td>1968.0</td>\n",
       "      <td>190.0</td>\n",
       "      <td>0.0</td>\n",
       "      <td>5.0</td>\n",
       "      <td>5.0</td>\n",
       "      <td>39480.81</td>\n",
       "    </tr>\n",
       "  </tbody>\n",
       "</table>\n",
       "</div>"
      ],
      "text/plain": [
       "   Unnamed: 0     Make          Seller  YearOfProd  Mileage (km)  Color  \\\n",
       "0           0      BMW  Private person        2005      284000.0   Gray   \n",
       "1           1  Peugeot  Private person        2011      216800.0   Gray   \n",
       "2           2     MINI  Private person        2014       99500.0  Brown   \n",
       "3           3     Opel  Private person        2017       95000.0    Red   \n",
       "4           4     Audi         Company        2019       98000.0  Black   \n",
       "\n",
       "     Fuel FuelCinCity    Gearbox  EngineVol (cm3)  Horsepower  Post-accident  \\\n",
       "0  Petrol          12     Manual           2497.0       177.0            NaN   \n",
       "1  Diesel           6     Manual           1997.0       140.0            0.0   \n",
       "2  Diesel           6  Automatic           1995.0       143.0            0.0   \n",
       "3  Petrol        7,70        NaN           1399.0       125.0            NaN   \n",
       "4  Diesel         NaN  Automatic           1968.0       190.0            0.0   \n",
       "\n",
       "   Seats  Doors     Price  \n",
       "0    5.0    5.0   4853.27  \n",
       "1    5.0    5.0   7629.80  \n",
       "2    5.0    5.0  14853.27  \n",
       "3    5.0    5.0   9864.56  \n",
       "4    5.0    5.0  39480.81  "
      ]
     },
     "execution_count": 55,
     "metadata": {},
     "output_type": "execute_result"
    }
   ],
   "source": [
    "# Loading data\n",
    "car_prices_data = pd.read_csv(\"dane_stare.csv\")\n",
    "car_prices_data.head()"
   ]
  },
  {
   "cell_type": "code",
   "execution_count": 56,
   "id": "0ad8c357",
   "metadata": {},
   "outputs": [
    {
     "name": "stdout",
     "output_type": "stream",
     "text": [
      "<class 'pandas.core.frame.DataFrame'>\n",
      "RangeIndex: 2944 entries, 0 to 2943\n",
      "Data columns (total 15 columns):\n",
      " #   Column           Non-Null Count  Dtype  \n",
      "---  ------           --------------  -----  \n",
      " 0   Unnamed: 0       2944 non-null   int64  \n",
      " 1   Make             2944 non-null   object \n",
      " 2   Seller           2944 non-null   object \n",
      " 3   YearOfProd       2944 non-null   int64  \n",
      " 4   Mileage (km)     2922 non-null   float64\n",
      " 5   Color            2942 non-null   object \n",
      " 6   Fuel             2758 non-null   object \n",
      " 7   FuelCinCity      1663 non-null   object \n",
      " 8   Gearbox          1878 non-null   object \n",
      " 9   EngineVol (cm3)  2898 non-null   float64\n",
      " 10  Horsepower       2467 non-null   float64\n",
      " 11  Post-accident    1931 non-null   float64\n",
      " 12  Seats            2763 non-null   float64\n",
      " 13  Doors            2862 non-null   float64\n",
      " 14  Price            2944 non-null   float64\n",
      "dtypes: float64(7), int64(2), object(6)\n",
      "memory usage: 345.1+ KB\n"
     ]
    }
   ],
   "source": [
    "# Checking data types\n",
    "car_prices_data.info()"
   ]
  },
  {
   "cell_type": "code",
   "execution_count": 57,
   "id": "00d9d0f7",
   "metadata": {},
   "outputs": [
    {
     "data": {
      "text/plain": [
       "Unnamed: 0            0\n",
       "Make                  0\n",
       "Seller                0\n",
       "YearOfProd            0\n",
       "Mileage (km)         22\n",
       "Color                 2\n",
       "Fuel                186\n",
       "FuelCinCity        1281\n",
       "Gearbox            1066\n",
       "EngineVol (cm3)      46\n",
       "Horsepower          477\n",
       "Post-accident      1013\n",
       "Seats               181\n",
       "Doors                82\n",
       "Price                 0\n",
       "dtype: int64"
      ]
     },
     "execution_count": 57,
     "metadata": {},
     "output_type": "execute_result"
    }
   ],
   "source": [
    "# Searching empty places in dataframe\n",
    "car_prices_data.isna().sum()"
   ]
  },
  {
   "cell_type": "code",
   "execution_count": 58,
   "id": "9556314e",
   "metadata": {},
   "outputs": [
    {
     "data": {
      "text/plain": [
       "Text(0.5, 1.0, 'Histogram of prices in dataframe')"
      ]
     },
     "execution_count": 58,
     "metadata": {},
     "output_type": "execute_result"
    },
    {
     "data": {
      "image/png": "[encoded data removed]",
      "text/plain": [
       "<Figure size 640x480 with 1 Axes>"
      ]
     },
     "metadata": {},
     "output_type": "display_data"
    }
   ],
   "source": [
    "# Initializing new plot\n",
    "fig, ax = plt.subplots()\n",
    "\n",
    "ax = car_prices_data.Price.T.hist()\n",
    "\n",
    "# x plot limitation\n",
    "ax.set_xlim([0, 200_000]);\n",
    "\n",
    "# Title of y, x axes\n",
    "ax.set_ylabel(\"Frequency\")\n",
    "ax.set_xlabel(\"Price in $\")\n",
    "\n",
    "# Title of the plot\n",
    "ax.set_title(\"Histogram of prices in dataframe\")"
   ]
  },
  {
   "cell_type": "code",
   "execution_count": 59,
   "id": "971fd29f",
   "metadata": {},
   "outputs": [
    {
     "data": {
      "text/plain": [
       "Text(0.5, 1.0, 'Price dependence on engine volume (first 30 rows.)')"
      ]
     },
     "execution_count": 59,
     "metadata": {},
     "output_type": "execute_result"
    },
    {
     "data": {
      "image/png": "[encoded data removed]",
      "text/plain": [
       "<Figure size 1000x1000 with 1 Axes>"
      ]
     },
     "metadata": {},
     "output_type": "display_data"
    }
   ],
   "source": [
    "# Initializing new plot\n",
    "fig, ax = plt.subplots(figsize = (10, 10))\n",
    "\n",
    "ax.scatter(car_prices_data[\"EngineVol (cm3)\"][:30],\n",
    "           car_prices_data[\"Price\"][:30]);\n",
    "\n",
    "# Title of x, y axes\n",
    "ax.set_xlabel(\"Engine Volume in cm^3\")\n",
    "ax.set_ylabel(\"Price in $\")\n",
    "\n",
    "# Title of the plot\n",
    "ax.set_title(\"Price dependence on engine volume (first 30 rows.)\")\n"
   ]
  },
  {
   "cell_type": "code",
   "execution_count": 60,
   "id": "cd99f4e6",
   "metadata": {},
   "outputs": [],
   "source": [
    "# Formatting data\n",
    "tmp_data = format_data(car_prices_data)\n",
    "tmp_data.drop(tmp_data.filter(regex=\"Unname\"),axis=1, inplace=True)"
   ]
  },
  {
   "cell_type": "code",
   "execution_count": 61,
   "id": "3752614f",
   "metadata": {},
   "outputs": [
    {
     "data": {
      "text/html": [
       "<div>\n",
       "<style scoped>\n",
       "    .dataframe tbody tr th:only-of-type {\n",
       "        vertical-align: middle;\n",
       "    }\n",
       "\n",
       "    .dataframe tbody tr th {\n",
       "        vertical-align: top;\n",
       "    }\n",
       "\n",
       "    .dataframe thead th {\n",
       "        text-align: right;\n",
       "    }\n",
       "</style>\n",
       "<table border=\"1\" class=\"dataframe\">\n",
       "  <thead>\n",
       "    <tr style=\"text-align: right;\">\n",
       "      <th></th>\n",
       "      <th>Make</th>\n",
       "      <th>Seller</th>\n",
       "      <th>YearOfProd</th>\n",
       "      <th>Mileage (km)</th>\n",
       "      <th>Color</th>\n",
       "      <th>Fuel</th>\n",
       "      <th>FuelCinCity</th>\n",
       "      <th>Gearbox</th>\n",
       "      <th>EngineVol (cm3)</th>\n",
       "      <th>Horsepower</th>\n",
       "      <th>...</th>\n",
       "      <th>Horsepower_missing</th>\n",
       "      <th>Post-accident_missing</th>\n",
       "      <th>Seats_missing</th>\n",
       "      <th>Doors_missing</th>\n",
       "      <th>Make_missing</th>\n",
       "      <th>Seller_missing</th>\n",
       "      <th>Color_missing</th>\n",
       "      <th>Fuel_missing</th>\n",
       "      <th>FuelCinCity_missing</th>\n",
       "      <th>Gearbox_missing</th>\n",
       "    </tr>\n",
       "  </thead>\n",
       "  <tbody>\n",
       "    <tr>\n",
       "      <th>0</th>\n",
       "      <td>4</td>\n",
       "      <td>2</td>\n",
       "      <td>2005</td>\n",
       "      <td>284000.0</td>\n",
       "      <td>6</td>\n",
       "      <td>4</td>\n",
       "      <td>17</td>\n",
       "      <td>2</td>\n",
       "      <td>2497.0</td>\n",
       "      <td>177.0</td>\n",
       "      <td>...</td>\n",
       "      <td>False</td>\n",
       "      <td>True</td>\n",
       "      <td>False</td>\n",
       "      <td>False</td>\n",
       "      <td>False</td>\n",
       "      <td>False</td>\n",
       "      <td>False</td>\n",
       "      <td>False</td>\n",
       "      <td>False</td>\n",
       "      <td>False</td>\n",
       "    </tr>\n",
       "    <tr>\n",
       "      <th>1</th>\n",
       "      <td>39</td>\n",
       "      <td>2</td>\n",
       "      <td>2011</td>\n",
       "      <td>216800.0</td>\n",
       "      <td>6</td>\n",
       "      <td>1</td>\n",
       "      <td>67</td>\n",
       "      <td>2</td>\n",
       "      <td>1997.0</td>\n",
       "      <td>140.0</td>\n",
       "      <td>...</td>\n",
       "      <td>False</td>\n",
       "      <td>False</td>\n",
       "      <td>False</td>\n",
       "      <td>False</td>\n",
       "      <td>False</td>\n",
       "      <td>False</td>\n",
       "      <td>False</td>\n",
       "      <td>False</td>\n",
       "      <td>False</td>\n",
       "      <td>False</td>\n",
       "    </tr>\n",
       "    <tr>\n",
       "      <th>2</th>\n",
       "      <td>31</td>\n",
       "      <td>2</td>\n",
       "      <td>2014</td>\n",
       "      <td>99500.0</td>\n",
       "      <td>3</td>\n",
       "      <td>1</td>\n",
       "      <td>67</td>\n",
       "      <td>1</td>\n",
       "      <td>1995.0</td>\n",
       "      <td>143.0</td>\n",
       "      <td>...</td>\n",
       "      <td>False</td>\n",
       "      <td>False</td>\n",
       "      <td>False</td>\n",
       "      <td>False</td>\n",
       "      <td>False</td>\n",
       "      <td>False</td>\n",
       "      <td>False</td>\n",
       "      <td>False</td>\n",
       "      <td>False</td>\n",
       "      <td>False</td>\n",
       "    </tr>\n",
       "    <tr>\n",
       "      <th>3</th>\n",
       "      <td>38</td>\n",
       "      <td>2</td>\n",
       "      <td>2017</td>\n",
       "      <td>95000.0</td>\n",
       "      <td>8</td>\n",
       "      <td>4</td>\n",
       "      <td>84</td>\n",
       "      <td>0</td>\n",
       "      <td>1399.0</td>\n",
       "      <td>125.0</td>\n",
       "      <td>...</td>\n",
       "      <td>False</td>\n",
       "      <td>True</td>\n",
       "      <td>False</td>\n",
       "      <td>False</td>\n",
       "      <td>False</td>\n",
       "      <td>False</td>\n",
       "      <td>False</td>\n",
       "      <td>False</td>\n",
       "      <td>False</td>\n",
       "      <td>True</td>\n",
       "    </tr>\n",
       "    <tr>\n",
       "      <th>4</th>\n",
       "      <td>3</td>\n",
       "      <td>1</td>\n",
       "      <td>2019</td>\n",
       "      <td>98000.0</td>\n",
       "      <td>1</td>\n",
       "      <td>1</td>\n",
       "      <td>0</td>\n",
       "      <td>1</td>\n",
       "      <td>1968.0</td>\n",
       "      <td>190.0</td>\n",
       "      <td>...</td>\n",
       "      <td>False</td>\n",
       "      <td>False</td>\n",
       "      <td>False</td>\n",
       "      <td>False</td>\n",
       "      <td>False</td>\n",
       "      <td>False</td>\n",
       "      <td>False</td>\n",
       "      <td>False</td>\n",
       "      <td>True</td>\n",
       "      <td>False</td>\n",
       "    </tr>\n",
       "  </tbody>\n",
       "</table>\n",
       "<p>5 rows × 26 columns</p>\n",
       "</div>"
      ],
      "text/plain": [
       "   Make  Seller  YearOfProd  Mileage (km)  Color  Fuel  FuelCinCity  Gearbox  \\\n",
       "0     4       2        2005      284000.0      6     4           17        2   \n",
       "1    39       2        2011      216800.0      6     1           67        2   \n",
       "2    31       2        2014       99500.0      3     1           67        1   \n",
       "3    38       2        2017       95000.0      8     4           84        0   \n",
       "4     3       1        2019       98000.0      1     1            0        1   \n",
       "\n",
       "   EngineVol (cm3)  Horsepower  ...  Horsepower_missing  \\\n",
       "0           2497.0       177.0  ...               False   \n",
       "1           1997.0       140.0  ...               False   \n",
       "2           1995.0       143.0  ...               False   \n",
       "3           1399.0       125.0  ...               False   \n",
       "4           1968.0       190.0  ...               False   \n",
       "\n",
       "   Post-accident_missing  Seats_missing  Doors_missing  Make_missing  \\\n",
       "0                   True          False          False         False   \n",
       "1                  False          False          False         False   \n",
       "2                  False          False          False         False   \n",
       "3                   True          False          False         False   \n",
       "4                  False          False          False         False   \n",
       "\n",
       "   Seller_missing  Color_missing  Fuel_missing  FuelCinCity_missing  \\\n",
       "0           False          False         False                False   \n",
       "1           False          False         False                False   \n",
       "2           False          False         False                False   \n",
       "3           False          False         False                False   \n",
       "4           False          False         False                 True   \n",
       "\n",
       "   Gearbox_missing  \n",
       "0            False  \n",
       "1            False  \n",
       "2            False  \n",
       "3             True  \n",
       "4            False  \n",
       "\n",
       "[5 rows x 26 columns]"
      ]
     },
     "execution_count": 61,
     "metadata": {},
     "output_type": "execute_result"
    }
   ],
   "source": [
    "tmp_data.head()"
   ]
  },
  {
   "cell_type": "code",
   "execution_count": 62,
   "id": "eb6a66dd",
   "metadata": {},
   "outputs": [
    {
     "data": {
      "text/plain": [
       "Make                       0\n",
       "Seller                     0\n",
       "YearOfProd                 0\n",
       "Mileage (km)               0\n",
       "Color                      0\n",
       "Fuel                       0\n",
       "FuelCinCity                0\n",
       "Gearbox                    0\n",
       "EngineVol (cm3)            0\n",
       "Horsepower                 0\n",
       "Post-accident              0\n",
       "Seats                      0\n",
       "Doors                      0\n",
       "Price                      0\n",
       "Mileage (km)_missing       0\n",
       "EngineVol (cm3)_missing    0\n",
       "Horsepower_missing         0\n",
       "Post-accident_missing      0\n",
       "Seats_missing              0\n",
       "Doors_missing              0\n",
       "Make_missing               0\n",
       "Seller_missing             0\n",
       "Color_missing              0\n",
       "Fuel_missing               0\n",
       "FuelCinCity_missing        0\n",
       "Gearbox_missing            0\n",
       "dtype: int64"
      ]
     },
     "execution_count": 62,
     "metadata": {},
     "output_type": "execute_result"
    }
   ],
   "source": [
    "tmp_data.isna().sum()"
   ]
  },
  {
   "cell_type": "code",
   "execution_count": 63,
   "id": "46d6e56a",
   "metadata": {},
   "outputs": [
    {
     "name": "stdout",
     "output_type": "stream",
     "text": [
      "<class 'pandas.core.frame.DataFrame'>\n",
      "RangeIndex: 2944 entries, 0 to 2943\n",
      "Data columns (total 26 columns):\n",
      " #   Column                   Non-Null Count  Dtype  \n",
      "---  ------                   --------------  -----  \n",
      " 0   Make                     2944 non-null   int8   \n",
      " 1   Seller                   2944 non-null   int8   \n",
      " 2   YearOfProd               2944 non-null   int64  \n",
      " 3   Mileage (km)             2944 non-null   float64\n",
      " 4   Color                    2944 non-null   int8   \n",
      " 5   Fuel                     2944 non-null   int8   \n",
      " 6   FuelCinCity              2944 non-null   int8   \n",
      " 7   Gearbox                  2944 non-null   int8   \n",
      " 8   EngineVol (cm3)          2944 non-null   float64\n",
      " 9   Horsepower               2944 non-null   float64\n",
      " 10  Post-accident            2944 non-null   float64\n",
      " 11  Seats                    2944 non-null   float64\n",
      " 12  Doors                    2944 non-null   float64\n",
      " 13  Price                    2944 non-null   float64\n",
      " 14  Mileage (km)_missing     2944 non-null   bool   \n",
      " 15  EngineVol (cm3)_missing  2944 non-null   bool   \n",
      " 16  Horsepower_missing       2944 non-null   bool   \n",
      " 17  Post-accident_missing    2944 non-null   bool   \n",
      " 18  Seats_missing            2944 non-null   bool   \n",
      " 19  Doors_missing            2944 non-null   bool   \n",
      " 20  Make_missing             2944 non-null   bool   \n",
      " 21  Seller_missing           2944 non-null   bool   \n",
      " 22  Color_missing            2944 non-null   bool   \n",
      " 23  Fuel_missing             2944 non-null   bool   \n",
      " 24  FuelCinCity_missing      2944 non-null   bool   \n",
      " 25  Gearbox_missing          2944 non-null   bool   \n",
      "dtypes: bool(12), float64(7), int64(1), int8(6)\n",
      "memory usage: 235.9 KB\n"
     ]
    }
   ],
   "source": [
    "tmp_data.info()"
   ]
  },
  {
   "cell_type": "markdown",
   "id": "9d37d6d1",
   "metadata": {},
   "source": [
    "# Modelling"
   ]
  },
  {
   "cell_type": "code",
   "execution_count": 64,
   "id": "317b4f6b",
   "metadata": {},
   "outputs": [],
   "source": [
    "# Creating test and valid data\n",
    "\n",
    "x = tmp_data.drop(\"Price\", axis = 1)\n",
    "y = tmp_data.Price\n",
    "\n",
    "np.random.seed(42)\n",
    "x_train, x_test, y_train, y_test = train_test_split(x, y, test_size = 0.2)"
   ]
  },
  {
   "cell_type": "code",
   "execution_count": 65,
   "id": "2f00511a",
   "metadata": {},
   "outputs": [
    {
     "data": {
      "text/html": [
       "<div>\n",
       "<style scoped>\n",
       "    .dataframe tbody tr th:only-of-type {\n",
       "        vertical-align: middle;\n",
       "    }\n",
       "\n",
       "    .dataframe tbody tr th {\n",
       "        vertical-align: top;\n",
       "    }\n",
       "\n",
       "    .dataframe thead th {\n",
       "        text-align: right;\n",
       "    }\n",
       "</style>\n",
       "<table border=\"1\" class=\"dataframe\">\n",
       "  <thead>\n",
       "    <tr style=\"text-align: right;\">\n",
       "      <th></th>\n",
       "      <th>Make</th>\n",
       "      <th>Seller</th>\n",
       "      <th>YearOfProd</th>\n",
       "      <th>Mileage (km)</th>\n",
       "      <th>Color</th>\n",
       "      <th>Fuel</th>\n",
       "      <th>FuelCinCity</th>\n",
       "      <th>Gearbox</th>\n",
       "      <th>EngineVol (cm3)</th>\n",
       "      <th>Horsepower</th>\n",
       "      <th>...</th>\n",
       "      <th>Horsepower_missing</th>\n",
       "      <th>Post-accident_missing</th>\n",
       "      <th>Seats_missing</th>\n",
       "      <th>Doors_missing</th>\n",
       "      <th>Make_missing</th>\n",
       "      <th>Seller_missing</th>\n",
       "      <th>Color_missing</th>\n",
       "      <th>Fuel_missing</th>\n",
       "      <th>FuelCinCity_missing</th>\n",
       "      <th>Gearbox_missing</th>\n",
       "    </tr>\n",
       "  </thead>\n",
       "  <tbody>\n",
       "    <tr>\n",
       "      <th>685</th>\n",
       "      <td>52</td>\n",
       "      <td>2</td>\n",
       "      <td>2014</td>\n",
       "      <td>160847.0</td>\n",
       "      <td>6</td>\n",
       "      <td>4</td>\n",
       "      <td>87</td>\n",
       "      <td>2</td>\n",
       "      <td>1390.0</td>\n",
       "      <td>122.0</td>\n",
       "      <td>...</td>\n",
       "      <td>False</td>\n",
       "      <td>False</td>\n",
       "      <td>False</td>\n",
       "      <td>False</td>\n",
       "      <td>False</td>\n",
       "      <td>False</td>\n",
       "      <td>False</td>\n",
       "      <td>False</td>\n",
       "      <td>False</td>\n",
       "      <td>False</td>\n",
       "    </tr>\n",
       "    <tr>\n",
       "      <th>2664</th>\n",
       "      <td>52</td>\n",
       "      <td>2</td>\n",
       "      <td>2020</td>\n",
       "      <td>47850.0</td>\n",
       "      <td>10</td>\n",
       "      <td>1</td>\n",
       "      <td>0</td>\n",
       "      <td>1</td>\n",
       "      <td>2967.0</td>\n",
       "      <td>286.0</td>\n",
       "      <td>...</td>\n",
       "      <td>False</td>\n",
       "      <td>False</td>\n",
       "      <td>False</td>\n",
       "      <td>False</td>\n",
       "      <td>False</td>\n",
       "      <td>False</td>\n",
       "      <td>False</td>\n",
       "      <td>False</td>\n",
       "      <td>True</td>\n",
       "      <td>False</td>\n",
       "    </tr>\n",
       "    <tr>\n",
       "      <th>2796</th>\n",
       "      <td>3</td>\n",
       "      <td>2</td>\n",
       "      <td>2002</td>\n",
       "      <td>223000.0</td>\n",
       "      <td>7</td>\n",
       "      <td>4</td>\n",
       "      <td>10</td>\n",
       "      <td>2</td>\n",
       "      <td>1984.0</td>\n",
       "      <td>130.0</td>\n",
       "      <td>...</td>\n",
       "      <td>False</td>\n",
       "      <td>False</td>\n",
       "      <td>False</td>\n",
       "      <td>False</td>\n",
       "      <td>False</td>\n",
       "      <td>False</td>\n",
       "      <td>False</td>\n",
       "      <td>False</td>\n",
       "      <td>False</td>\n",
       "      <td>False</td>\n",
       "    </tr>\n",
       "    <tr>\n",
       "      <th>456</th>\n",
       "      <td>19</td>\n",
       "      <td>1</td>\n",
       "      <td>2017</td>\n",
       "      <td>103000.0</td>\n",
       "      <td>1</td>\n",
       "      <td>1</td>\n",
       "      <td>0</td>\n",
       "      <td>2</td>\n",
       "      <td>1997.0</td>\n",
       "      <td>150.0</td>\n",
       "      <td>...</td>\n",
       "      <td>False</td>\n",
       "      <td>False</td>\n",
       "      <td>False</td>\n",
       "      <td>False</td>\n",
       "      <td>False</td>\n",
       "      <td>False</td>\n",
       "      <td>False</td>\n",
       "      <td>False</td>\n",
       "      <td>True</td>\n",
       "      <td>False</td>\n",
       "    </tr>\n",
       "    <tr>\n",
       "      <th>462</th>\n",
       "      <td>53</td>\n",
       "      <td>1</td>\n",
       "      <td>2021</td>\n",
       "      <td>22800.0</td>\n",
       "      <td>1</td>\n",
       "      <td>2</td>\n",
       "      <td>0</td>\n",
       "      <td>1</td>\n",
       "      <td>1968.0</td>\n",
       "      <td>408.0</td>\n",
       "      <td>...</td>\n",
       "      <td>False</td>\n",
       "      <td>False</td>\n",
       "      <td>False</td>\n",
       "      <td>True</td>\n",
       "      <td>False</td>\n",
       "      <td>False</td>\n",
       "      <td>False</td>\n",
       "      <td>False</td>\n",
       "      <td>True</td>\n",
       "      <td>False</td>\n",
       "    </tr>\n",
       "    <tr>\n",
       "      <th>...</th>\n",
       "      <td>...</td>\n",
       "      <td>...</td>\n",
       "      <td>...</td>\n",
       "      <td>...</td>\n",
       "      <td>...</td>\n",
       "      <td>...</td>\n",
       "      <td>...</td>\n",
       "      <td>...</td>\n",
       "      <td>...</td>\n",
       "      <td>...</td>\n",
       "      <td>...</td>\n",
       "      <td>...</td>\n",
       "      <td>...</td>\n",
       "      <td>...</td>\n",
       "      <td>...</td>\n",
       "      <td>...</td>\n",
       "      <td>...</td>\n",
       "      <td>...</td>\n",
       "      <td>...</td>\n",
       "      <td>...</td>\n",
       "      <td>...</td>\n",
       "    </tr>\n",
       "    <tr>\n",
       "      <th>1638</th>\n",
       "      <td>44</td>\n",
       "      <td>2</td>\n",
       "      <td>2006</td>\n",
       "      <td>248100.0</td>\n",
       "      <td>6</td>\n",
       "      <td>1</td>\n",
       "      <td>67</td>\n",
       "      <td>1</td>\n",
       "      <td>1968.0</td>\n",
       "      <td>140.0</td>\n",
       "      <td>...</td>\n",
       "      <td>False</td>\n",
       "      <td>False</td>\n",
       "      <td>False</td>\n",
       "      <td>False</td>\n",
       "      <td>False</td>\n",
       "      <td>False</td>\n",
       "      <td>False</td>\n",
       "      <td>False</td>\n",
       "      <td>False</td>\n",
       "      <td>False</td>\n",
       "    </tr>\n",
       "    <tr>\n",
       "      <th>1095</th>\n",
       "      <td>3</td>\n",
       "      <td>2</td>\n",
       "      <td>2002</td>\n",
       "      <td>236000.0</td>\n",
       "      <td>6</td>\n",
       "      <td>4</td>\n",
       "      <td>10</td>\n",
       "      <td>0</td>\n",
       "      <td>1781.0</td>\n",
       "      <td>163.0</td>\n",
       "      <td>...</td>\n",
       "      <td>False</td>\n",
       "      <td>True</td>\n",
       "      <td>False</td>\n",
       "      <td>False</td>\n",
       "      <td>False</td>\n",
       "      <td>False</td>\n",
       "      <td>False</td>\n",
       "      <td>False</td>\n",
       "      <td>False</td>\n",
       "      <td>True</td>\n",
       "    </tr>\n",
       "    <tr>\n",
       "      <th>1130</th>\n",
       "      <td>52</td>\n",
       "      <td>1</td>\n",
       "      <td>2023</td>\n",
       "      <td>1.0</td>\n",
       "      <td>6</td>\n",
       "      <td>4</td>\n",
       "      <td>0</td>\n",
       "      <td>1</td>\n",
       "      <td>1498.0</td>\n",
       "      <td>150.0</td>\n",
       "      <td>...</td>\n",
       "      <td>False</td>\n",
       "      <td>False</td>\n",
       "      <td>False</td>\n",
       "      <td>False</td>\n",
       "      <td>False</td>\n",
       "      <td>False</td>\n",
       "      <td>False</td>\n",
       "      <td>False</td>\n",
       "      <td>True</td>\n",
       "      <td>False</td>\n",
       "    </tr>\n",
       "    <tr>\n",
       "      <th>1294</th>\n",
       "      <td>4</td>\n",
       "      <td>2</td>\n",
       "      <td>2014</td>\n",
       "      <td>120000.0</td>\n",
       "      <td>6</td>\n",
       "      <td>4</td>\n",
       "      <td>94</td>\n",
       "      <td>0</td>\n",
       "      <td>1997.0</td>\n",
       "      <td>245.0</td>\n",
       "      <td>...</td>\n",
       "      <td>False</td>\n",
       "      <td>True</td>\n",
       "      <td>False</td>\n",
       "      <td>False</td>\n",
       "      <td>False</td>\n",
       "      <td>False</td>\n",
       "      <td>False</td>\n",
       "      <td>False</td>\n",
       "      <td>False</td>\n",
       "      <td>True</td>\n",
       "    </tr>\n",
       "    <tr>\n",
       "      <th>860</th>\n",
       "      <td>19</td>\n",
       "      <td>2</td>\n",
       "      <td>2012</td>\n",
       "      <td>184000.0</td>\n",
       "      <td>2</td>\n",
       "      <td>1</td>\n",
       "      <td>67</td>\n",
       "      <td>0</td>\n",
       "      <td>1997.0</td>\n",
       "      <td>163.0</td>\n",
       "      <td>...</td>\n",
       "      <td>False</td>\n",
       "      <td>False</td>\n",
       "      <td>False</td>\n",
       "      <td>False</td>\n",
       "      <td>False</td>\n",
       "      <td>False</td>\n",
       "      <td>False</td>\n",
       "      <td>False</td>\n",
       "      <td>False</td>\n",
       "      <td>True</td>\n",
       "    </tr>\n",
       "  </tbody>\n",
       "</table>\n",
       "<p>2355 rows × 25 columns</p>\n",
       "</div>"
      ],
      "text/plain": [
       "      Make  Seller  YearOfProd  Mileage (km)  Color  Fuel  FuelCinCity  \\\n",
       "685     52       2        2014      160847.0      6     4           87   \n",
       "2664    52       2        2020       47850.0     10     1            0   \n",
       "2796     3       2        2002      223000.0      7     4           10   \n",
       "456     19       1        2017      103000.0      1     1            0   \n",
       "462     53       1        2021       22800.0      1     2            0   \n",
       "...    ...     ...         ...           ...    ...   ...          ...   \n",
       "1638    44       2        2006      248100.0      6     1           67   \n",
       "1095     3       2        2002      236000.0      6     4           10   \n",
       "1130    52       1        2023           1.0      6     4            0   \n",
       "1294     4       2        2014      120000.0      6     4           94   \n",
       "860     19       2        2012      184000.0      2     1           67   \n",
       "\n",
       "      Gearbox  EngineVol (cm3)  Horsepower  ...  Horsepower_missing  \\\n",
       "685         2           1390.0       122.0  ...               False   \n",
       "2664        1           2967.0       286.0  ...               False   \n",
       "2796        2           1984.0       130.0  ...               False   \n",
       "456         2           1997.0       150.0  ...               False   \n",
       "462         1           1968.0       408.0  ...               False   \n",
       "...       ...              ...         ...  ...                 ...   \n",
       "1638        1           1968.0       140.0  ...               False   \n",
       "1095        0           1781.0       163.0  ...               False   \n",
       "1130        1           1498.0       150.0  ...               False   \n",
       "1294        0           1997.0       245.0  ...               False   \n",
       "860         0           1997.0       163.0  ...               False   \n",
       "\n",
       "      Post-accident_missing  Seats_missing  Doors_missing  Make_missing  \\\n",
       "685                   False          False          False         False   \n",
       "2664                  False          False          False         False   \n",
       "2796                  False          False          False         False   \n",
       "456                   False          False          False         False   \n",
       "462                   False          False           True         False   \n",
       "...                     ...            ...            ...           ...   \n",
       "1638                  False          False          False         False   \n",
       "1095                   True          False          False         False   \n",
       "1130                  False          False          False         False   \n",
       "1294                   True          False          False         False   \n",
       "860                   False          False          False         False   \n",
       "\n",
       "      Seller_missing  Color_missing  Fuel_missing  FuelCinCity_missing  \\\n",
       "685            False          False         False                False   \n",
       "2664           False          False         False                 True   \n",
       "2796           False          False         False                False   \n",
       "456            False          False         False                 True   \n",
       "462            False          False         False                 True   \n",
       "...              ...            ...           ...                  ...   \n",
       "1638           False          False         False                False   \n",
       "1095           False          False         False                False   \n",
       "1130           False          False         False                 True   \n",
       "1294           False          False         False                False   \n",
       "860            False          False         False                False   \n",
       "\n",
       "      Gearbox_missing  \n",
       "685             False  \n",
       "2664            False  \n",
       "2796            False  \n",
       "456             False  \n",
       "462             False  \n",
       "...               ...  \n",
       "1638            False  \n",
       "1095             True  \n",
       "1130            False  \n",
       "1294             True  \n",
       "860              True  \n",
       "\n",
       "[2355 rows x 25 columns]"
      ]
     },
     "execution_count": 65,
     "metadata": {},
     "output_type": "execute_result"
    }
   ],
   "source": [
    "x_train"
   ]
  },
  {
   "cell_type": "code",
   "execution_count": 66,
   "id": "6effb54f",
   "metadata": {},
   "outputs": [
    {
     "data": {
      "text/plain": [
       "685      8532.73\n",
       "2664    69954.85\n",
       "2796     4040.63\n",
       "456     19164.79\n",
       "462     59568.40\n",
       "          ...   \n",
       "1638     3137.70\n",
       "1095     2370.20\n",
       "1130    44446.95\n",
       "1294    16930.02\n",
       "860      7426.64\n",
       "Name: Price, Length: 2355, dtype: float64"
      ]
     },
     "execution_count": 66,
     "metadata": {},
     "output_type": "execute_result"
    }
   ],
   "source": [
    "y_train"
   ]
  },
  {
   "cell_type": "code",
   "execution_count": 67,
   "id": "1eb283a9",
   "metadata": {},
   "outputs": [
    {
     "data": {
      "text/html": [
       "<style>#sk-container-id-3 {color: black;background-color: white;}#sk-container-id-3 pre{padding: 0;}#sk-container-id-3 div.sk-toggleable {background-color: white;}#sk-container-id-3 label.sk-toggleable__label {cursor: pointer;display: block;width: 100%;margin-bottom: 0;padding: 0.3em;box-sizing: border-box;text-align: center;}#sk-container-id-3 label.sk-toggleable__label-arrow:before {content: \"▸\";float: left;margin-right: 0.25em;color: #696969;}#sk-container-id-3 label.sk-toggleable__label-arrow:hover:before {color: black;}#sk-container-id-3 div.sk-estimator:hover label.sk-toggleable__label-arrow:before {color: black;}#sk-container-id-3 div.sk-toggleable__content {max-height: 0;max-width: 0;overflow: hidden;text-align: left;background-color: #f0f8ff;}#sk-container-id-3 div.sk-toggleable__content pre {margin: 0.2em;color: black;border-radius: 0.25em;background-color: #f0f8ff;}#sk-container-id-3 input.sk-toggleable__control:checked~div.sk-toggleable__content {max-height: 200px;max-width: 100%;overflow: auto;}#sk-container-id-3 input.sk-toggleable__control:checked~label.sk-toggleable__label-arrow:before {content: \"▾\";}#sk-container-id-3 div.sk-estimator input.sk-toggleable__control:checked~label.sk-toggleable__label {background-color: #d4ebff;}#sk-container-id-3 div.sk-label input.sk-toggleable__control:checked~label.sk-toggleable__label {background-color: #d4ebff;}#sk-container-id-3 input.sk-hidden--visually {border: 0;clip: rect(1px 1px 1px 1px);clip: rect(1px, 1px, 1px, 1px);height: 1px;margin: -1px;overflow: hidden;padding: 0;position: absolute;width: 1px;}#sk-container-id-3 div.sk-estimator {font-family: monospace;background-color: #f0f8ff;border: 1px dotted black;border-radius: 0.25em;box-sizing: border-box;margin-bottom: 0.5em;}#sk-container-id-3 div.sk-estimator:hover {background-color: #d4ebff;}#sk-container-id-3 div.sk-parallel-item::after {content: \"\";width: 100%;border-bottom: 1px solid gray;flex-grow: 1;}#sk-container-id-3 div.sk-label:hover label.sk-toggleable__label {background-color: #d4ebff;}#sk-container-id-3 div.sk-serial::before {content: \"\";position: absolute;border-left: 1px solid gray;box-sizing: border-box;top: 0;bottom: 0;left: 50%;z-index: 0;}#sk-container-id-3 div.sk-serial {display: flex;flex-direction: column;align-items: center;background-color: white;padding-right: 0.2em;padding-left: 0.2em;position: relative;}#sk-container-id-3 div.sk-item {position: relative;z-index: 1;}#sk-container-id-3 div.sk-parallel {display: flex;align-items: stretch;justify-content: center;background-color: white;position: relative;}#sk-container-id-3 div.sk-item::before, #sk-container-id-3 div.sk-parallel-item::before {content: \"\";position: absolute;border-left: 1px solid gray;box-sizing: border-box;top: 0;bottom: 0;left: 50%;z-index: -1;}#sk-container-id-3 div.sk-parallel-item {display: flex;flex-direction: column;z-index: 1;position: relative;background-color: white;}#sk-container-id-3 div.sk-parallel-item:first-child::after {align-self: flex-end;width: 50%;}#sk-container-id-3 div.sk-parallel-item:last-child::after {align-self: flex-start;width: 50%;}#sk-container-id-3 div.sk-parallel-item:only-child::after {width: 0;}#sk-container-id-3 div.sk-dashed-wrapped {border: 1px dashed gray;margin: 0 0.4em 0.5em 0.4em;box-sizing: border-box;padding-bottom: 0.4em;background-color: white;}#sk-container-id-3 div.sk-label label {font-family: monospace;font-weight: bold;display: inline-block;line-height: 1.2em;}#sk-container-id-3 div.sk-label-container {text-align: center;}#sk-container-id-3 div.sk-container {/* jupyter's `normalize.less` sets `[hidden] { display: none; }` but bootstrap.min.css set `[hidden] { display: none !important; }` so we also need the `!important` here to be able to override the default hidden behavior on the sphinx rendered scikit-learn.org. See: https://github.com/scikit-learn/scikit-learn/issues/21755 */display: inline-block !important;position: relative;}#sk-container-id-3 div.sk-text-repr-fallback {display: none;}</style><div id=\"sk-container-id-3\" class=\"sk-top-container\"><div class=\"sk-text-repr-fallback\"><pre>RandomForestRegressor(random_state=42)</pre><b>In a Jupyter environment, please rerun this cell to show the HTML representation or trust the notebook. <br />On GitHub, the HTML representation is unable to render, please try loading this page with nbviewer.org.</b></div><div class=\"sk-container\" hidden><div class=\"sk-item\"><div class=\"sk-estimator sk-toggleable\"><input class=\"sk-toggleable__control sk-hidden--visually\" id=\"sk-estimator-id-3\" type=\"checkbox\" checked><label for=\"sk-estimator-id-3\" class=\"sk-toggleable__label sk-toggleable__label-arrow\">RandomForestRegressor</label><div class=\"sk-toggleable__content\"><pre>RandomForestRegressor(random_state=42)</pre></div></div></div></div></div>"
      ],
      "text/plain": [
       "RandomForestRegressor(random_state=42)"
      ]
     },
     "execution_count": 67,
     "metadata": {},
     "output_type": "execute_result"
    }
   ],
   "source": [
    "model = RandomForestRegressor(random_state = 42)\n",
    "model.fit(x_train, y_train)"
   ]
  },
  {
   "cell_type": "markdown",
   "id": "2772854a",
   "metadata": {},
   "source": [
    "# Evaluating "
   ]
  },
  {
   "cell_type": "code",
   "execution_count": 68,
   "id": "5c208466",
   "metadata": {},
   "outputs": [
    {
     "data": {
      "text/plain": [
       "0.9380151290141107"
      ]
     },
     "execution_count": 68,
     "metadata": {},
     "output_type": "execute_result"
    }
   ],
   "source": [
    "model.score(x_test, y_test)"
   ]
  },
  {
   "cell_type": "code",
   "execution_count": 69,
   "id": "2b599c45",
   "metadata": {},
   "outputs": [
    {
     "data": {
      "text/plain": [
       "0.8699821032518431"
      ]
     },
     "execution_count": 69,
     "metadata": {},
     "output_type": "execute_result"
    }
   ],
   "source": [
    "cross_val_score(model, X = x, y = y, cv = 10).mean()"
   ]
  },
  {
   "cell_type": "code",
   "execution_count": 70,
   "id": "e6d3ed0e",
   "metadata": {},
   "outputs": [
    {
     "data": {
      "text/plain": [
       "{'R^2': 0.94, 'MAE': 3601.44, 'MSE': 41459663.4, 'RMSE': 6438.917843861653}"
      ]
     },
     "execution_count": 70,
     "metadata": {},
     "output_type": "execute_result"
    }
   ],
   "source": [
    "y_preds = model.predict(x_test)\n",
    "\n",
    "score_model(y_test, y_preds)"
   ]
  },
  {
   "cell_type": "code",
   "execution_count": 71,
   "id": "bfa6af7e",
   "metadata": {},
   "outputs": [
    {
     "data": {
      "text/html": [
       "<div>\n",
       "<style scoped>\n",
       "    .dataframe tbody tr th:only-of-type {\n",
       "        vertical-align: middle;\n",
       "    }\n",
       "\n",
       "    .dataframe tbody tr th {\n",
       "        vertical-align: top;\n",
       "    }\n",
       "\n",
       "    .dataframe thead th {\n",
       "        text-align: right;\n",
       "    }\n",
       "</style>\n",
       "<table border=\"1\" class=\"dataframe\">\n",
       "  <thead>\n",
       "    <tr style=\"text-align: right;\">\n",
       "      <th></th>\n",
       "      <th>Real value</th>\n",
       "      <th>Predicted value</th>\n",
       "      <th>Difference</th>\n",
       "    </tr>\n",
       "  </thead>\n",
       "  <tbody>\n",
       "    <tr>\n",
       "      <th>565</th>\n",
       "      <td>31580.14</td>\n",
       "      <td>27869.7386</td>\n",
       "      <td>3710.40</td>\n",
       "    </tr>\n",
       "    <tr>\n",
       "      <th>1220</th>\n",
       "      <td>9706.55</td>\n",
       "      <td>10475.8491</td>\n",
       "      <td>769.30</td>\n",
       "    </tr>\n",
       "    <tr>\n",
       "      <th>1677</th>\n",
       "      <td>12392.78</td>\n",
       "      <td>13390.3819</td>\n",
       "      <td>997.60</td>\n",
       "    </tr>\n",
       "    <tr>\n",
       "      <th>1577</th>\n",
       "      <td>4173.81</td>\n",
       "      <td>5182.3921</td>\n",
       "      <td>1008.58</td>\n",
       "    </tr>\n",
       "    <tr>\n",
       "      <th>2831</th>\n",
       "      <td>112844.24</td>\n",
       "      <td>82540.0887</td>\n",
       "      <td>30304.15</td>\n",
       "    </tr>\n",
       "    <tr>\n",
       "      <th>...</th>\n",
       "      <td>...</td>\n",
       "      <td>...</td>\n",
       "      <td>...</td>\n",
       "    </tr>\n",
       "    <tr>\n",
       "      <th>772</th>\n",
       "      <td>1534.99</td>\n",
       "      <td>2147.3735</td>\n",
       "      <td>612.38</td>\n",
       "    </tr>\n",
       "    <tr>\n",
       "      <th>1255</th>\n",
       "      <td>34424.38</td>\n",
       "      <td>34024.0326</td>\n",
       "      <td>400.35</td>\n",
       "    </tr>\n",
       "    <tr>\n",
       "      <th>2574</th>\n",
       "      <td>6455.98</td>\n",
       "      <td>9913.2398</td>\n",
       "      <td>3457.26</td>\n",
       "    </tr>\n",
       "    <tr>\n",
       "      <th>2933</th>\n",
       "      <td>7426.64</td>\n",
       "      <td>8386.3818</td>\n",
       "      <td>959.74</td>\n",
       "    </tr>\n",
       "    <tr>\n",
       "      <th>1412</th>\n",
       "      <td>13250.56</td>\n",
       "      <td>12165.2072</td>\n",
       "      <td>1085.35</td>\n",
       "    </tr>\n",
       "  </tbody>\n",
       "</table>\n",
       "<p>589 rows × 3 columns</p>\n",
       "</div>"
      ],
      "text/plain": [
       "      Real value  Predicted value  Difference\n",
       "565     31580.14       27869.7386     3710.40\n",
       "1220     9706.55       10475.8491      769.30\n",
       "1677    12392.78       13390.3819      997.60\n",
       "1577     4173.81        5182.3921     1008.58\n",
       "2831   112844.24       82540.0887    30304.15\n",
       "...          ...              ...         ...\n",
       "772      1534.99        2147.3735      612.38\n",
       "1255    34424.38       34024.0326      400.35\n",
       "2574     6455.98        9913.2398     3457.26\n",
       "2933     7426.64        8386.3818      959.74\n",
       "1412    13250.56       12165.2072     1085.35\n",
       "\n",
       "[589 rows x 3 columns]"
      ]
     },
     "execution_count": 71,
     "metadata": {},
     "output_type": "execute_result"
    }
   ],
   "source": [
    "difference = y_test - y_preds\n",
    "result = pd.DataFrame({\n",
    "    \"Real value\": y_test,\n",
    "    \"Predicted value\": y_preds,\n",
    "    \"Difference\": np.abs(round(difference, 2))\n",
    "})\n",
    "result"
   ]
  },
  {
   "cell_type": "code",
   "execution_count": 72,
   "id": "26908116",
   "metadata": {},
   "outputs": [
    {
     "data": {
      "text/plain": [
       "<matplotlib.legend.Legend at 0x1c7b8845600>"
      ]
     },
     "execution_count": 72,
     "metadata": {},
     "output_type": "execute_result"
    },
    {
     "data": {
      "image/png": "[encoded data removed]",
      "text/plain": [
       "<Figure size 640x480 with 1 Axes>"
      ]
     },
     "metadata": {},
     "output_type": "display_data"
    }
   ],
   "source": [
    "plt.plot(np.sort(y_preds))\n",
    "plt.plot(np.sort(y_test))\n",
    "\n",
    "plt.legend([\"Preds\", \"Test\"])"
   ]
  },
  {
   "cell_type": "code",
   "execution_count": 73,
   "id": "e7308de7",
   "metadata": {},
   "outputs": [
    {
     "data": {
      "text/plain": [
       "0.16350587851551734"
      ]
     },
     "execution_count": 73,
     "metadata": {},
     "output_type": "execute_result"
    }
   ],
   "source": [
    "all_pred = np.sum(result[\"Difference\"])\n",
    "all_real = np.sum(result[\"Real value\"])\n",
    "all_pred/all_real"
   ]
  },
  {
   "cell_type": "markdown",
   "id": "333473d3",
   "metadata": {},
   "source": [
    "# Hyperparameters tuning using RandomSearchCV / Unsuccessfull"
   ]
  },
  {
   "cell_type": "code",
   "execution_count": 74,
   "id": "281f6810",
   "metadata": {},
   "outputs": [
    {
     "name": "stdout",
     "output_type": "stream",
     "text": [
      "Fitting 5 folds for each of 10 candidates, totalling 50 fits\n"
     ]
    },
    {
     "data": {
      "text/html": [
       "<style>#sk-container-id-4 {color: black;background-color: white;}#sk-container-id-4 pre{padding: 0;}#sk-container-id-4 div.sk-toggleable {background-color: white;}#sk-container-id-4 label.sk-toggleable__label {cursor: pointer;display: block;width: 100%;margin-bottom: 0;padding: 0.3em;box-sizing: border-box;text-align: center;}#sk-container-id-4 label.sk-toggleable__label-arrow:before {content: \"▸\";float: left;margin-right: 0.25em;color: #696969;}#sk-container-id-4 label.sk-toggleable__label-arrow:hover:before {color: black;}#sk-container-id-4 div.sk-estimator:hover label.sk-toggleable__label-arrow:before {color: black;}#sk-container-id-4 div.sk-toggleable__content {max-height: 0;max-width: 0;overflow: hidden;text-align: left;background-color: #f0f8ff;}#sk-container-id-4 div.sk-toggleable__content pre {margin: 0.2em;color: black;border-radius: 0.25em;background-color: #f0f8ff;}#sk-container-id-4 input.sk-toggleable__control:checked~div.sk-toggleable__content {max-height: 200px;max-width: 100%;overflow: auto;}#sk-container-id-4 input.sk-toggleable__control:checked~label.sk-toggleable__label-arrow:before {content: \"▾\";}#sk-container-id-4 div.sk-estimator input.sk-toggleable__control:checked~label.sk-toggleable__label {background-color: #d4ebff;}#sk-container-id-4 div.sk-label input.sk-toggleable__control:checked~label.sk-toggleable__label {background-color: #d4ebff;}#sk-container-id-4 input.sk-hidden--visually {border: 0;clip: rect(1px 1px 1px 1px);clip: rect(1px, 1px, 1px, 1px);height: 1px;margin: -1px;overflow: hidden;padding: 0;position: absolute;width: 1px;}#sk-container-id-4 div.sk-estimator {font-family: monospace;background-color: #f0f8ff;border: 1px dotted black;border-radius: 0.25em;box-sizing: border-box;margin-bottom: 0.5em;}#sk-container-id-4 div.sk-estimator:hover {background-color: #d4ebff;}#sk-container-id-4 div.sk-parallel-item::after {content: \"\";width: 100%;border-bottom: 1px solid gray;flex-grow: 1;}#sk-container-id-4 div.sk-label:hover label.sk-toggleable__label {background-color: #d4ebff;}#sk-container-id-4 div.sk-serial::before {content: \"\";position: absolute;border-left: 1px solid gray;box-sizing: border-box;top: 0;bottom: 0;left: 50%;z-index: 0;}#sk-container-id-4 div.sk-serial {display: flex;flex-direction: column;align-items: center;background-color: white;padding-right: 0.2em;padding-left: 0.2em;position: relative;}#sk-container-id-4 div.sk-item {position: relative;z-index: 1;}#sk-container-id-4 div.sk-parallel {display: flex;align-items: stretch;justify-content: center;background-color: white;position: relative;}#sk-container-id-4 div.sk-item::before, #sk-container-id-4 div.sk-parallel-item::before {content: \"\";position: absolute;border-left: 1px solid gray;box-sizing: border-box;top: 0;bottom: 0;left: 50%;z-index: -1;}#sk-container-id-4 div.sk-parallel-item {display: flex;flex-direction: column;z-index: 1;position: relative;background-color: white;}#sk-container-id-4 div.sk-parallel-item:first-child::after {align-self: flex-end;width: 50%;}#sk-container-id-4 div.sk-parallel-item:last-child::after {align-self: flex-start;width: 50%;}#sk-container-id-4 div.sk-parallel-item:only-child::after {width: 0;}#sk-container-id-4 div.sk-dashed-wrapped {border: 1px dashed gray;margin: 0 0.4em 0.5em 0.4em;box-sizing: border-box;padding-bottom: 0.4em;background-color: white;}#sk-container-id-4 div.sk-label label {font-family: monospace;font-weight: bold;display: inline-block;line-height: 1.2em;}#sk-container-id-4 div.sk-label-container {text-align: center;}#sk-container-id-4 div.sk-container {/* jupyter's `normalize.less` sets `[hidden] { display: none; }` but bootstrap.min.css set `[hidden] { display: none !important; }` so we also need the `!important` here to be able to override the default hidden behavior on the sphinx rendered scikit-learn.org. See: https://github.com/scikit-learn/scikit-learn/issues/21755 */display: inline-block !important;position: relative;}#sk-container-id-4 div.sk-text-repr-fallback {display: none;}</style><div id=\"sk-container-id-4\" class=\"sk-top-container\"><div class=\"sk-text-repr-fallback\"><pre>RandomizedSearchCV(cv=5, estimator=RandomForestRegressor(n_jobs=-1),\n",
       "                   param_distributions={&#x27;max_depth&#x27;: array([ 0,  1,  2,  3,  4,  5,  6,  7,  8,  9, 10, 11, 12, 13, 14, 15, 16,\n",
       "       17, 18, 19, 20, 21, 22, 23, 24, 25, 26, 27, 28, 29, 30, 31, 32, 33,\n",
       "       34, 35, 36, 37, 38, 39, 40, 41, 42, 43, 44, 45, 46, 47, 48, 49, 50,\n",
       "       51, 52, 53, 54, 55, 56, 57, 58, 59, 60, 61, 62, 63, 64, 65, 66, 67,\n",
       "       68, 69, 70, 71, 72, 73, 74, 75, 76, 77, 78, 79, 80, 81, 82, 83, 8...\n",
       "       9240, 9250, 9260, 9270, 9280, 9290, 9300, 9310, 9320, 9330, 9340,\n",
       "       9350, 9360, 9370, 9380, 9390, 9400, 9410, 9420, 9430, 9440, 9450,\n",
       "       9460, 9470, 9480, 9490, 9500, 9510, 9520, 9530, 9540, 9550, 9560,\n",
       "       9570, 9580, 9590, 9600, 9610, 9620, 9630, 9640, 9650, 9660, 9670,\n",
       "       9680, 9690, 9700, 9710, 9720, 9730, 9740, 9750, 9760, 9770, 9780,\n",
       "       9790, 9800, 9810, 9820, 9830, 9840, 9850, 9860, 9870, 9880, 9890,\n",
       "       9900, 9910, 9920, 9930, 9940, 9950, 9960, 9970, 9980, 9990])},\n",
       "                   verbose=True)</pre><b>In a Jupyter environment, please rerun this cell to show the HTML representation or trust the notebook. <br />On GitHub, the HTML representation is unable to render, please try loading this page with nbviewer.org.</b></div><div class=\"sk-container\" hidden><div class=\"sk-item sk-dashed-wrapped\"><div class=\"sk-label-container\"><div class=\"sk-label sk-toggleable\"><input class=\"sk-toggleable__control sk-hidden--visually\" id=\"sk-estimator-id-4\" type=\"checkbox\" ><label for=\"sk-estimator-id-4\" class=\"sk-toggleable__label sk-toggleable__label-arrow\">RandomizedSearchCV</label><div class=\"sk-toggleable__content\"><pre>RandomizedSearchCV(cv=5, estimator=RandomForestRegressor(n_jobs=-1),\n",
       "                   param_distributions={&#x27;max_depth&#x27;: array([ 0,  1,  2,  3,  4,  5,  6,  7,  8,  9, 10, 11, 12, 13, 14, 15, 16,\n",
       "       17, 18, 19, 20, 21, 22, 23, 24, 25, 26, 27, 28, 29, 30, 31, 32, 33,\n",
       "       34, 35, 36, 37, 38, 39, 40, 41, 42, 43, 44, 45, 46, 47, 48, 49, 50,\n",
       "       51, 52, 53, 54, 55, 56, 57, 58, 59, 60, 61, 62, 63, 64, 65, 66, 67,\n",
       "       68, 69, 70, 71, 72, 73, 74, 75, 76, 77, 78, 79, 80, 81, 82, 83, 8...\n",
       "       9240, 9250, 9260, 9270, 9280, 9290, 9300, 9310, 9320, 9330, 9340,\n",
       "       9350, 9360, 9370, 9380, 9390, 9400, 9410, 9420, 9430, 9440, 9450,\n",
       "       9460, 9470, 9480, 9490, 9500, 9510, 9520, 9530, 9540, 9550, 9560,\n",
       "       9570, 9580, 9590, 9600, 9610, 9620, 9630, 9640, 9650, 9660, 9670,\n",
       "       9680, 9690, 9700, 9710, 9720, 9730, 9740, 9750, 9760, 9770, 9780,\n",
       "       9790, 9800, 9810, 9820, 9830, 9840, 9850, 9860, 9870, 9880, 9890,\n",
       "       9900, 9910, 9920, 9930, 9940, 9950, 9960, 9970, 9980, 9990])},\n",
       "                   verbose=True)</pre></div></div></div><div class=\"sk-parallel\"><div class=\"sk-parallel-item\"><div class=\"sk-item\"><div class=\"sk-label-container\"><div class=\"sk-label sk-toggleable\"><input class=\"sk-toggleable__control sk-hidden--visually\" id=\"sk-estimator-id-5\" type=\"checkbox\" ><label for=\"sk-estimator-id-5\" class=\"sk-toggleable__label sk-toggleable__label-arrow\">estimator: RandomForestRegressor</label><div class=\"sk-toggleable__content\"><pre>RandomForestRegressor(n_jobs=-1)</pre></div></div></div><div class=\"sk-serial\"><div class=\"sk-item\"><div class=\"sk-estimator sk-toggleable\"><input class=\"sk-toggleable__control sk-hidden--visually\" id=\"sk-estimator-id-6\" type=\"checkbox\" ><label for=\"sk-estimator-id-6\" class=\"sk-toggleable__label sk-toggleable__label-arrow\">RandomForestRegressor</label><div class=\"sk-toggleable__content\"><pre>RandomForestRegressor(n_jobs=-1)</pre></div></div></div></div></div></div></div></div></div></div>"
      ],
      "text/plain": [
       "RandomizedSearchCV(cv=5, estimator=RandomForestRegressor(n_jobs=-1),\n",
       "                   param_distributions={'max_depth': array([ 0,  1,  2,  3,  4,  5,  6,  7,  8,  9, 10, 11, 12, 13, 14, 15, 16,\n",
       "       17, 18, 19, 20, 21, 22, 23, 24, 25, 26, 27, 28, 29, 30, 31, 32, 33,\n",
       "       34, 35, 36, 37, 38, 39, 40, 41, 42, 43, 44, 45, 46, 47, 48, 49, 50,\n",
       "       51, 52, 53, 54, 55, 56, 57, 58, 59, 60, 61, 62, 63, 64, 65, 66, 67,\n",
       "       68, 69, 70, 71, 72, 73, 74, 75, 76, 77, 78, 79, 80, 81, 82, 83, 8...\n",
       "       9240, 9250, 9260, 9270, 9280, 9290, 9300, 9310, 9320, 9330, 9340,\n",
       "       9350, 9360, 9370, 9380, 9390, 9400, 9410, 9420, 9430, 9440, 9450,\n",
       "       9460, 9470, 9480, 9490, 9500, 9510, 9520, 9530, 9540, 9550, 9560,\n",
       "       9570, 9580, 9590, 9600, 9610, 9620, 9630, 9640, 9650, 9660, 9670,\n",
       "       9680, 9690, 9700, 9710, 9720, 9730, 9740, 9750, 9760, 9770, 9780,\n",
       "       9790, 9800, 9810, 9820, 9830, 9840, 9850, 9860, 9870, 9880, 9890,\n",
       "       9900, 9910, 9920, 9930, 9940, 9950, 9960, 9970, 9980, 9990])},\n",
       "                   verbose=True)"
      ]
     },
     "execution_count": 74,
     "metadata": {},
     "output_type": "execute_result"
    }
   ],
   "source": [
    "search_grid = {\n",
    "    \"n_estimators\": np.arange(0, 10000, 10),\n",
    "    \"max_features\": [\"sqrt\", \"log2\", None],\n",
    "    \"min_samples_leaf\": np.arange(0, 1000, 5),\n",
    "    \"max_depth\": np.arange(0, 100, 1)\n",
    "}\n",
    "\n",
    "reg_model = RandomizedSearchCV(RandomForestRegressor(n_jobs = -1),\n",
    "                               param_distributions = search_grid,\n",
    "                               n_iter = 10,\n",
    "                               cv = 5,\n",
    "                               verbose = True)\n",
    "reg_model.fit(x_train, y_train)"
   ]
  },
  {
   "cell_type": "code",
   "execution_count": 75,
   "id": "099e525b",
   "metadata": {},
   "outputs": [
    {
     "data": {
      "text/plain": [
       "{'n_estimators': 9710,\n",
       " 'min_samples_leaf': 140,\n",
       " 'max_features': 'sqrt',\n",
       " 'max_depth': 79}"
      ]
     },
     "execution_count": 75,
     "metadata": {},
     "output_type": "execute_result"
    }
   ],
   "source": [
    "reg_model.best_params_"
   ]
  },
  {
   "cell_type": "code",
   "execution_count": 76,
   "id": "61651676",
   "metadata": {},
   "outputs": [
    {
     "data": {
      "text/plain": [
       "{'R^2': 0.53, 'MAE': 8578.0, 'MSE': 313623469.62, 'RMSE': 17709.41755112234}"
      ]
     },
     "execution_count": 76,
     "metadata": {},
     "output_type": "execute_result"
    }
   ],
   "source": [
    "y_preds = reg_model.predict(x_test)\n",
    "score_model(y_test, y_preds)"
   ]
  },
  {
   "cell_type": "markdown",
   "id": "2e7d62d3",
   "metadata": {},
   "source": [
    "# Feature importances"
   ]
  },
  {
   "cell_type": "code",
   "execution_count": 77,
   "id": "387301d1",
   "metadata": {},
   "outputs": [
    {
     "data": {
      "text/plain": [
       "array([1.74448819e-02, 3.17136456e-03, 2.81254567e-01, 5.01474172e-02,\n",
       "       8.63744205e-03, 6.33997121e-03, 5.97786162e-03, 2.28328915e-03,\n",
       "       4.24896712e-02, 5.61816189e-01, 0.00000000e+00, 6.29584744e-03,\n",
       "       4.27961606e-03, 4.48939698e-04, 7.09116142e-04, 5.54292974e-04,\n",
       "       3.94127994e-03, 5.07452777e-04, 7.39225226e-04, 0.00000000e+00,\n",
       "       0.00000000e+00, 5.51028047e-06, 1.13138424e-04, 1.98111315e-03,\n",
       "       8.61813500e-04])"
      ]
     },
     "execution_count": 77,
     "metadata": {},
     "output_type": "execute_result"
    }
   ],
   "source": [
    "model.feature_importances_"
   ]
  },
  {
   "cell_type": "code",
   "execution_count": 78,
   "id": "fd1c1c41",
   "metadata": {
    "scrolled": true
   },
   "outputs": [
    {
     "data": {
      "text/plain": [
       "<AxesSubplot: >"
      ]
     },
     "execution_count": 78,
     "metadata": {},
     "output_type": "execute_result"
    },
    {
     "data": {
      "image/png": "[encoded data removed]",
      "text/plain": [
       "<Figure size 640x480 with 1 Axes>"
      ]
     },
     "metadata": {},
     "output_type": "display_data"
    }
   ],
   "source": [
    "# Creating new series to plot\n",
    "feauter_importances_series = pd.Series(model.feature_importances_, index = x_train.columns).sort_values()\n",
    "\n",
    "# Changing style of matplotlib\n",
    "plt.style.use('seaborn-v0_8-deep')\n",
    "\n",
    "# Initializing and plotting\n",
    "fig, ax = plt.subplots()\n",
    "feauter_importances_series.plot.barh()"
   ]
  },
  {
   "cell_type": "markdown",
   "id": "734ae370",
   "metadata": {},
   "source": [
    "# Saving model"
   ]
  },
  {
   "cell_type": "code",
   "execution_count": 84,
   "id": "e49c7d76",
   "metadata": {},
   "outputs": [],
   "source": [
    "dump(model, open(\"Price_prediction_model.pkl\", \"wb\"))"
   ]
  }
 ],
 "metadata": {
  "kernelspec": {
   "display_name": "Python 3 (ipykernel)",
   "language": "python",
   "name": "python3"
  },
  "language_info": {
   "codemirror_mode": {
    "name": "ipython",
    "version": 3
   },
   "file_extension": ".py",
   "mimetype": "text/x-python",
   "name": "python",
   "nbconvert_exporter": "python",
   "pygments_lexer": "ipython3",
   "version": "3.10.9"
  }
 },
 "nbformat": 4,
 "nbformat_minor": 5
}
